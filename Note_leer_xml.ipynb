{
 "cells": [
  {
   "cell_type": "code",
   "execution_count": 15,
   "metadata": {},
   "outputs": [
    {
     "name": "stdout",
     "output_type": "stream",
     "text": [
      "F\n",
      "#document\n",
      "['G', 'B', 'D', 'G', 'B', 'E', 'E', 'B', 'G', 'D', 'B', 'G']\n",
      "1\n",
      "<music21.stream.Score 0x7f84541cf280>\n"
     ]
    }
   ],
   "source": [
    "import xml.dom.minidom\n",
    "from music21 import *\n",
    "f = note.Note(\"F5\")\n",
    "print(f.name)\n",
    "\n",
    "doc = xml.dom.minidom.parse(\"Escala_PG4.xml\");\n",
    "print(doc.nodeName)\n",
    "notes_xml=doc.getElementsByTagName(\"step\")\n",
    "notes = []\n",
    "for i in range(len(notes_xml)):\n",
    "    notes.append(\"{0}\".format(notes_xml.item(i).firstChild.nodeValue))\n",
    "print(notes)\n",
    "\n",
    "compaces_xml = doc.getElementsByTagName(\"measure\")\n",
    "print(compaces_xml.item(0).getAttribute(\"number\"))\n",
    "\n",
    "url = 'Escala_PG4.xml'\n",
    "sAlt = converter.parse(url)\n",
    "print(sAlt.measures(1, 5))"
   ]
  },
  {
   "cell_type": "code",
   "execution_count": null,
   "metadata": {},
   "outputs": [],
   "source": []
  }
 ],
 "metadata": {
  "kernelspec": {
   "display_name": "Python 3",
   "language": "python",
   "name": "python3"
  },
  "language_info": {
   "codemirror_mode": {
    "name": "ipython",
    "version": 3
   },
   "file_extension": ".py",
   "mimetype": "text/x-python",
   "name": "python",
   "nbconvert_exporter": "python",
   "pygments_lexer": "ipython3",
   "version": "3.8.2"
  }
 },
 "nbformat": 4,
 "nbformat_minor": 4
}
